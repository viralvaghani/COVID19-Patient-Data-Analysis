{
 "cells": [
  {
   "cell_type": "markdown",
   "id": "b19c40d0",
   "metadata": {},
   "source": [
    "# COVID19 Patient Data Analysis\n",
    "\n",
    "### Aim: \n",
    "The aim of this analysis is to collate data coming from three different sources and further perform analysis on data\n",
    "regarding COVID-19 patients using Pandas and MongoDB.\n",
    "\n",
    "### Input\n",
    "1. patient_data_1.csv\n",
    "    Contains data about 843 patients.\n",
    "2. patient_data_2.csv\n",
    "    Contains data about 457 patients.\n",
    "3. ‘patients’ collection\n",
    "    Contains data about 11,502 patients.\n",
    "    \n",
    "### Output\n",
    "1. Compute the current age of the patients\n",
    "2. Obtain the ID’s of patients that were diagnosed with COVID-19\n",
    "3. Create an aggregation pipeline to obtain COVID-19 patients who also had ‘Cough (finding)’ and ‘Fever\n",
    "   (finding)’\n",
    "4. Create a new aggregation pipeline to join patient data for 8,820 COVID-19 patients. Remove dead patients\n",
    "   here\n",
    "5. Based on the previous pipeline, create a new pipeline to calculate the total number of alive COVID-19\n",
    "   patients for each gender"
   ]
  },
  {
   "cell_type": "markdown",
   "id": "3c0996fd",
   "metadata": {},
   "source": [
    "### Import libraries"
   ]
  },
  {
   "cell_type": "code",
   "execution_count": 1,
   "id": "different-dollar",
   "metadata": {},
   "outputs": [],
   "source": [
    "%config IPCompleter.use_jedi = False\n",
    "import pymongo\n",
    "from pymongo import MongoClient\n",
    "import pandas as pd\n",
    "import numpy as np\n",
    "import datetime\n",
    "import pprint\n",
    "from bson.objectid import ObjectId"
   ]
  },
  {
   "cell_type": "markdown",
   "id": "aging-harvest",
   "metadata": {},
   "source": [
    "### Import the ‘patient_data_1.csv’ and ‘patient_data_2.csv’ into pandas DataFrames and harmonize them."
   ]
  },
  {
   "cell_type": "markdown",
   "id": "industrial-business",
   "metadata": {},
   "source": [
    "1. Import patient_data_1.csv file "
   ]
  },
  {
   "cell_type": "code",
   "execution_count": 2,
   "id": "declared-decrease",
   "metadata": {},
   "outputs": [
    {
     "data": {
      "text/html": [
       "<div>\n",
       "<style scoped>\n",
       "    .dataframe tbody tr th:only-of-type {\n",
       "        vertical-align: middle;\n",
       "    }\n",
       "\n",
       "    .dataframe tbody tr th {\n",
       "        vertical-align: top;\n",
       "    }\n",
       "\n",
       "    .dataframe thead th {\n",
       "        text-align: right;\n",
       "    }\n",
       "</style>\n",
       "<table border=\"1\" class=\"dataframe\">\n",
       "  <thead>\n",
       "    <tr style=\"text-align: right;\">\n",
       "      <th></th>\n",
       "      <th>Id</th>\n",
       "      <th>BIRTHDATE</th>\n",
       "      <th>MARITAL</th>\n",
       "      <th>RACE</th>\n",
       "      <th>ETHNICITY</th>\n",
       "      <th>GENDER</th>\n",
       "      <th>CITY</th>\n",
       "      <th>COUNTY</th>\n",
       "      <th>STATE</th>\n",
       "    </tr>\n",
       "  </thead>\n",
       "  <tbody>\n",
       "    <tr>\n",
       "      <th>0</th>\n",
       "      <td>P9497</td>\n",
       "      <td>1948-07-23</td>\n",
       "      <td>S</td>\n",
       "      <td>white</td>\n",
       "      <td>nonhispanic</td>\n",
       "      <td>Male</td>\n",
       "      <td>Framingham</td>\n",
       "      <td>Middlesex County</td>\n",
       "      <td>Massachusetts</td>\n",
       "    </tr>\n",
       "    <tr>\n",
       "      <th>1</th>\n",
       "      <td>P6183</td>\n",
       "      <td>1997-12-12</td>\n",
       "      <td>NaN</td>\n",
       "      <td>white</td>\n",
       "      <td>hispanic</td>\n",
       "      <td>Female</td>\n",
       "      <td>Springfield</td>\n",
       "      <td>Hampden County</td>\n",
       "      <td>Massachusetts</td>\n",
       "    </tr>\n",
       "    <tr>\n",
       "      <th>2</th>\n",
       "      <td>P4358</td>\n",
       "      <td>2000-05-10</td>\n",
       "      <td>NaN</td>\n",
       "      <td>white</td>\n",
       "      <td>nonhispanic</td>\n",
       "      <td>Female</td>\n",
       "      <td>Quincy</td>\n",
       "      <td>Norfolk County</td>\n",
       "      <td>Massachusetts</td>\n",
       "    </tr>\n",
       "  </tbody>\n",
       "</table>\n",
       "</div>"
      ],
      "text/plain": [
       "      Id   BIRTHDATE MARITAL   RACE    ETHNICITY  GENDER         CITY  \\\n",
       "0  P9497  1948-07-23       S  white  nonhispanic    Male   Framingham   \n",
       "1  P6183  1997-12-12     NaN  white     hispanic  Female  Springfield   \n",
       "2  P4358  2000-05-10     NaN  white  nonhispanic  Female       Quincy   \n",
       "\n",
       "             COUNTY          STATE  \n",
       "0  Middlesex County  Massachusetts  \n",
       "1    Hampden County  Massachusetts  \n",
       "2    Norfolk County  Massachusetts  "
      ]
     },
     "execution_count": 2,
     "metadata": {},
     "output_type": "execute_result"
    }
   ],
   "source": [
    "#Read csv file\n",
    "patient_data_1=pd.read_csv('patient_data_1.csv')\n",
    "patient_data_1.head(3)"
   ]
  },
  {
   "cell_type": "code",
   "execution_count": 3,
   "id": "ba2e49d7",
   "metadata": {},
   "outputs": [
    {
     "data": {
      "text/plain": [
       "(843, 9)"
      ]
     },
     "execution_count": 3,
     "metadata": {},
     "output_type": "execute_result"
    }
   ],
   "source": [
    "patient_data_1.shape"
   ]
  },
  {
   "cell_type": "markdown",
   "id": "endangered-malawi",
   "metadata": {},
   "source": [
    "Change Male and Female values in patient_data_1 ||\n",
    "Change column name id to \"_id\""
   ]
  },
  {
   "cell_type": "code",
   "execution_count": 5,
   "id": "758f112c",
   "metadata": {},
   "outputs": [
    {
     "data": {
      "text/plain": [
       "Id             0\n",
       "BIRTHDATE      0\n",
       "MARITAL      277\n",
       "RACE           0\n",
       "ETHNICITY      0\n",
       "GENDER         0\n",
       "CITY           0\n",
       "COUNTY         0\n",
       "STATE          0\n",
       "dtype: int64"
      ]
     },
     "execution_count": 5,
     "metadata": {},
     "output_type": "execute_result"
    }
   ],
   "source": [
    "#check missing values\n",
    "patient_data_1.isnull().sum()"
   ]
  },
  {
   "cell_type": "code",
   "execution_count": 6,
   "id": "postal-subscription",
   "metadata": {},
   "outputs": [],
   "source": [
    "#Replace Female to F and Male to M\n",
    "patient_data_1.loc[(patient_data_1.GENDER == 'Male'),\"GENDER\"]=\"M\"\n",
    "patient_data_1.loc[(patient_data_1.GENDER == 'Female'),\"GENDER\"]=\"F\""
   ]
  },
  {
   "cell_type": "code",
   "execution_count": 7,
   "id": "moved-array",
   "metadata": {},
   "outputs": [
    {
     "data": {
      "text/html": [
       "<div>\n",
       "<style scoped>\n",
       "    .dataframe tbody tr th:only-of-type {\n",
       "        vertical-align: middle;\n",
       "    }\n",
       "\n",
       "    .dataframe tbody tr th {\n",
       "        vertical-align: top;\n",
       "    }\n",
       "\n",
       "    .dataframe thead th {\n",
       "        text-align: right;\n",
       "    }\n",
       "</style>\n",
       "<table border=\"1\" class=\"dataframe\">\n",
       "  <thead>\n",
       "    <tr style=\"text-align: right;\">\n",
       "      <th></th>\n",
       "      <th>_id</th>\n",
       "      <th>BIRTHDATE</th>\n",
       "      <th>MARITAL</th>\n",
       "      <th>RACE</th>\n",
       "      <th>ETHNICITY</th>\n",
       "      <th>GENDER</th>\n",
       "      <th>CITY</th>\n",
       "      <th>COUNTY</th>\n",
       "      <th>STATE</th>\n",
       "    </tr>\n",
       "  </thead>\n",
       "  <tbody>\n",
       "    <tr>\n",
       "      <th>0</th>\n",
       "      <td>P9497</td>\n",
       "      <td>1948-07-23</td>\n",
       "      <td>S</td>\n",
       "      <td>white</td>\n",
       "      <td>nonhispanic</td>\n",
       "      <td>M</td>\n",
       "      <td>Framingham</td>\n",
       "      <td>Middlesex County</td>\n",
       "      <td>Massachusetts</td>\n",
       "    </tr>\n",
       "    <tr>\n",
       "      <th>1</th>\n",
       "      <td>P6183</td>\n",
       "      <td>1997-12-12</td>\n",
       "      <td>NaN</td>\n",
       "      <td>white</td>\n",
       "      <td>hispanic</td>\n",
       "      <td>F</td>\n",
       "      <td>Springfield</td>\n",
       "      <td>Hampden County</td>\n",
       "      <td>Massachusetts</td>\n",
       "    </tr>\n",
       "    <tr>\n",
       "      <th>2</th>\n",
       "      <td>P4358</td>\n",
       "      <td>2000-05-10</td>\n",
       "      <td>NaN</td>\n",
       "      <td>white</td>\n",
       "      <td>nonhispanic</td>\n",
       "      <td>F</td>\n",
       "      <td>Quincy</td>\n",
       "      <td>Norfolk County</td>\n",
       "      <td>Massachusetts</td>\n",
       "    </tr>\n",
       "  </tbody>\n",
       "</table>\n",
       "</div>"
      ],
      "text/plain": [
       "     _id   BIRTHDATE MARITAL   RACE    ETHNICITY GENDER         CITY  \\\n",
       "0  P9497  1948-07-23       S  white  nonhispanic      M   Framingham   \n",
       "1  P6183  1997-12-12     NaN  white     hispanic      F  Springfield   \n",
       "2  P4358  2000-05-10     NaN  white  nonhispanic      F       Quincy   \n",
       "\n",
       "             COUNTY          STATE  \n",
       "0  Middlesex County  Massachusetts  \n",
       "1    Hampden County  Massachusetts  \n",
       "2    Norfolk County  Massachusetts  "
      ]
     },
     "execution_count": 7,
     "metadata": {},
     "output_type": "execute_result"
    }
   ],
   "source": [
    "patient_df1=patient_data_1.rename(columns= {\"Id\":\"_id\"})\n",
    "patient_df1.head(3)"
   ]
  },
  {
   "cell_type": "markdown",
   "id": "charged-operator",
   "metadata": {},
   "source": [
    "2. Import patient_data_2.csv file ||  convert column names to upper case"
   ]
  },
  {
   "cell_type": "code",
   "execution_count": 8,
   "id": "ruled-grave",
   "metadata": {},
   "outputs": [],
   "source": [
    "#Read csv file\n",
    "patient_data_2=pd.read_csv('patient_data_2.csv')\n",
    "patient_data_2.columns=patient_data_2.columns.str.upper()"
   ]
  },
  {
   "cell_type": "markdown",
   "id": "better-tuesday",
   "metadata": {},
   "source": [
    "Change non-hispanic to nonhispanic  || Change column name id to _id"
   ]
  },
  {
   "cell_type": "code",
   "execution_count": 9,
   "id": "urban-classification",
   "metadata": {},
   "outputs": [
    {
     "data": {
      "text/html": [
       "<div>\n",
       "<style scoped>\n",
       "    .dataframe tbody tr th:only-of-type {\n",
       "        vertical-align: middle;\n",
       "    }\n",
       "\n",
       "    .dataframe tbody tr th {\n",
       "        vertical-align: top;\n",
       "    }\n",
       "\n",
       "    .dataframe thead th {\n",
       "        text-align: right;\n",
       "    }\n",
       "</style>\n",
       "<table border=\"1\" class=\"dataframe\">\n",
       "  <thead>\n",
       "    <tr style=\"text-align: right;\">\n",
       "      <th></th>\n",
       "      <th>_id</th>\n",
       "      <th>BIRTHDATE</th>\n",
       "      <th>MARITAL</th>\n",
       "      <th>RACE</th>\n",
       "      <th>ETHNICITY</th>\n",
       "      <th>GENDER</th>\n",
       "      <th>CITY</th>\n",
       "      <th>COUNTY</th>\n",
       "      <th>STATE</th>\n",
       "    </tr>\n",
       "  </thead>\n",
       "  <tbody>\n",
       "    <tr>\n",
       "      <th>0</th>\n",
       "      <td>P294</td>\n",
       "      <td>1986-02-28</td>\n",
       "      <td>M</td>\n",
       "      <td>white</td>\n",
       "      <td>hispanic</td>\n",
       "      <td>M</td>\n",
       "      <td>North Brookfield</td>\n",
       "      <td>Worcester County</td>\n",
       "      <td>Massachusetts</td>\n",
       "    </tr>\n",
       "    <tr>\n",
       "      <th>1</th>\n",
       "      <td>P1286</td>\n",
       "      <td>1989-07-03</td>\n",
       "      <td>M</td>\n",
       "      <td>asian</td>\n",
       "      <td>nonhispanic</td>\n",
       "      <td>M</td>\n",
       "      <td>Winthrop</td>\n",
       "      <td>Suffolk County</td>\n",
       "      <td>Massachusetts</td>\n",
       "    </tr>\n",
       "    <tr>\n",
       "      <th>2</th>\n",
       "      <td>P6033</td>\n",
       "      <td>1968-01-13</td>\n",
       "      <td>M</td>\n",
       "      <td>black</td>\n",
       "      <td>nonhispanic</td>\n",
       "      <td>M</td>\n",
       "      <td>Marshfield</td>\n",
       "      <td>Plymouth County</td>\n",
       "      <td>Massachusetts</td>\n",
       "    </tr>\n",
       "  </tbody>\n",
       "</table>\n",
       "</div>"
      ],
      "text/plain": [
       "     _id   BIRTHDATE MARITAL   RACE    ETHNICITY GENDER              CITY  \\\n",
       "0   P294  1986-02-28       M  white     hispanic      M  North Brookfield   \n",
       "1  P1286  1989-07-03       M  asian  nonhispanic      M          Winthrop   \n",
       "2  P6033  1968-01-13       M  black  nonhispanic      M        Marshfield   \n",
       "\n",
       "             COUNTY          STATE  \n",
       "0  Worcester County  Massachusetts  \n",
       "1    Suffolk County  Massachusetts  \n",
       "2   Plymouth County  Massachusetts  "
      ]
     },
     "execution_count": 9,
     "metadata": {},
     "output_type": "execute_result"
    }
   ],
   "source": [
    "patient_data_2.loc[(patient_data_2.ETHNICITY == 'non-hispanic'),\"ETHNICITY\"]=\"nonhispanic\"\n",
    "patient_df2=patient_data_2.rename(columns= {\"ID\":\"_id\"})\n",
    "patient_df2.head(3)"
   ]
  },
  {
   "cell_type": "markdown",
   "id": "assisted-wyoming",
   "metadata": {},
   "source": [
    "###  From the ‘subjects’ collection, retrieve the patients who are alive. Print the number of patients retrieved."
   ]
  },
  {
   "cell_type": "code",
   "execution_count": 10,
   "id": "palestinian-causing",
   "metadata": {},
   "outputs": [
    {
     "data": {
      "text/plain": [
       "MongoClient(host=['localhost:27017'], document_class=dict, tz_aware=False, connect=True)"
      ]
     },
     "execution_count": 10,
     "metadata": {},
     "output_type": "execute_result"
    }
   ],
   "source": [
    "# connecting to database server\n",
    "client = MongoClient('localhost', 27017)\n",
    "client"
   ]
  },
  {
   "cell_type": "code",
   "execution_count": null,
   "id": "egyptian-nursing",
   "metadata": {},
   "outputs": [],
   "source": [
    "# list databases in the database server\n",
    "client.list_database_names()"
   ]
  },
  {
   "cell_type": "code",
   "execution_count": 16,
   "id": "independent-gather",
   "metadata": {},
   "outputs": [
    {
     "data": {
      "text/plain": [
       "['conditions', 'patients']"
      ]
     },
     "execution_count": 16,
     "metadata": {},
     "output_type": "execute_result"
    }
   ],
   "source": [
    "#Selecting patientdata database\n",
    "db=client.patientdata\n",
    "\n",
    "#check the list of collections inside patientdata database\n",
    "db.list_collection_names()"
   ]
  },
  {
   "cell_type": "code",
   "execution_count": 17,
   "id": "wired-defendant",
   "metadata": {},
   "outputs": [],
   "source": [
    "#Rename collection for the analysis\n",
    "mydb=client[\"patientdata\"]\n",
    "patients_coll=mydb[\"patients\"]\n",
    "conditions_coll=mydb[\"conditions\"]\n",
    "con_c=mydb.conditions"
   ]
  },
  {
   "cell_type": "code",
   "execution_count": 18,
   "id": "quantitative-times",
   "metadata": {},
   "outputs": [
    {
     "name": "stdout",
     "output_type": "stream",
     "text": [
      "Documents in patient collections 11052.\n",
      "Documents in condition collections 54731.\n"
     ]
    }
   ],
   "source": [
    "#Count documents in both collections\n",
    "c_p=patients_coll.count_documents({})\n",
    "c_c=conditions_coll.count_documents({})\n",
    "print( f\"Documents in patient collections {c_p}.\")\n",
    "print( f\"Documents in condition collections {c_c}.\")"
   ]
  },
  {
   "cell_type": "code",
   "execution_count": 19,
   "id": "physical-mitchell",
   "metadata": {},
   "outputs": [
    {
     "data": {
      "text/plain": [
       "{'_id': 'P1',\n",
       " 'BIRTHDATE': '2017-08-24',\n",
       " 'DEATHDATE': nan,\n",
       " 'MARITAL': nan,\n",
       " 'RACE': 'white',\n",
       " 'ETHNICITY': 'nonhispanic',\n",
       " 'GENDER': 'M',\n",
       " 'CITY': 'Springfield',\n",
       " 'COUNTY': 'Hampden County',\n",
       " 'STATE': 'Massachusetts'}"
      ]
     },
     "execution_count": 19,
     "metadata": {},
     "output_type": "execute_result"
    }
   ],
   "source": [
    "#Check the one record of patient collection\n",
    "patients_coll.find_one()"
   ]
  },
  {
   "cell_type": "code",
   "execution_count": 20,
   "id": "fuzzy-wyoming",
   "metadata": {},
   "outputs": [
    {
     "name": "stdout",
     "output_type": "stream",
     "text": [
      "Number of alive patients: 8700.\n"
     ]
    }
   ],
   "source": [
    "#From the patient collection, retrieve the patients who are alive. Print the number of patient retrieved.\n",
    "pt_alive =patients_coll.count_documents({\"DEATHDATE\": float(\"nan\")})\n",
    "print(f\"Number of alive patients: {pt_alive}.\")"
   ]
  },
  {
   "cell_type": "code",
   "execution_count": 21,
   "id": "patent-brass",
   "metadata": {},
   "outputs": [
    {
     "data": {
      "text/html": [
       "<div>\n",
       "<style scoped>\n",
       "    .dataframe tbody tr th:only-of-type {\n",
       "        vertical-align: middle;\n",
       "    }\n",
       "\n",
       "    .dataframe tbody tr th {\n",
       "        vertical-align: top;\n",
       "    }\n",
       "\n",
       "    .dataframe thead th {\n",
       "        text-align: right;\n",
       "    }\n",
       "</style>\n",
       "<table border=\"1\" class=\"dataframe\">\n",
       "  <thead>\n",
       "    <tr style=\"text-align: right;\">\n",
       "      <th></th>\n",
       "      <th>_id</th>\n",
       "      <th>BIRTHDATE</th>\n",
       "      <th>MARITAL</th>\n",
       "      <th>RACE</th>\n",
       "      <th>ETHNICITY</th>\n",
       "      <th>GENDER</th>\n",
       "      <th>CITY</th>\n",
       "      <th>COUNTY</th>\n",
       "      <th>STATE</th>\n",
       "    </tr>\n",
       "  </thead>\n",
       "  <tbody>\n",
       "    <tr>\n",
       "      <th>0</th>\n",
       "      <td>P1</td>\n",
       "      <td>2017-08-24</td>\n",
       "      <td>NaN</td>\n",
       "      <td>white</td>\n",
       "      <td>nonhispanic</td>\n",
       "      <td>M</td>\n",
       "      <td>Springfield</td>\n",
       "      <td>Hampden County</td>\n",
       "      <td>Massachusetts</td>\n",
       "    </tr>\n",
       "    <tr>\n",
       "      <th>1</th>\n",
       "      <td>P10</td>\n",
       "      <td>2005-01-16</td>\n",
       "      <td>NaN</td>\n",
       "      <td>white</td>\n",
       "      <td>nonhispanic</td>\n",
       "      <td>M</td>\n",
       "      <td>Springfield</td>\n",
       "      <td>Hampden County</td>\n",
       "      <td>Massachusetts</td>\n",
       "    </tr>\n",
       "    <tr>\n",
       "      <th>2</th>\n",
       "      <td>P100</td>\n",
       "      <td>1946-09-09</td>\n",
       "      <td>M</td>\n",
       "      <td>white</td>\n",
       "      <td>nonhispanic</td>\n",
       "      <td>M</td>\n",
       "      <td>Fall River</td>\n",
       "      <td>Bristol County</td>\n",
       "      <td>Massachusetts</td>\n",
       "    </tr>\n",
       "  </tbody>\n",
       "</table>\n",
       "</div>"
      ],
      "text/plain": [
       "    _id   BIRTHDATE MARITAL   RACE    ETHNICITY GENDER         CITY  \\\n",
       "0    P1  2017-08-24     NaN  white  nonhispanic      M  Springfield   \n",
       "1   P10  2005-01-16     NaN  white  nonhispanic      M  Springfield   \n",
       "2  P100  1946-09-09       M  white  nonhispanic      M   Fall River   \n",
       "\n",
       "           COUNTY          STATE  \n",
       "0  Hampden County  Massachusetts  \n",
       "1  Hampden County  Massachusetts  \n",
       "2  Bristol County  Massachusetts  "
      ]
     },
     "execution_count": 21,
     "metadata": {},
     "output_type": "execute_result"
    }
   ],
   "source": [
    "#Store alive patients into dataframe\n",
    "pt_list=list(patients_coll.find({\"DEATHDATE\": float(\"nan\")}))\n",
    "patients_d=pd.DataFrame(pt_list)\n",
    "\n",
    "#Remove DEATHDATE column from dataframe\n",
    "patient_df=patients_d.drop(columns=[\"DEATHDATE\"], axis=1)\n",
    "patient_df.head(3)"
   ]
  },
  {
   "cell_type": "markdown",
   "id": "handled-pulse",
   "metadata": {},
   "source": [
    "###  Concatenate the above three DataFrames. You should get 10,000 patients. "
   ]
  },
  {
   "cell_type": "code",
   "execution_count": 22,
   "id": "colored-zambia",
   "metadata": {},
   "outputs": [
    {
     "data": {
      "text/html": [
       "<div>\n",
       "<style scoped>\n",
       "    .dataframe tbody tr th:only-of-type {\n",
       "        vertical-align: middle;\n",
       "    }\n",
       "\n",
       "    .dataframe tbody tr th {\n",
       "        vertical-align: top;\n",
       "    }\n",
       "\n",
       "    .dataframe thead th {\n",
       "        text-align: right;\n",
       "    }\n",
       "</style>\n",
       "<table border=\"1\" class=\"dataframe\">\n",
       "  <thead>\n",
       "    <tr style=\"text-align: right;\">\n",
       "      <th></th>\n",
       "      <th>_id</th>\n",
       "      <th>BIRTHDATE</th>\n",
       "      <th>MARITAL</th>\n",
       "      <th>RACE</th>\n",
       "      <th>ETHNICITY</th>\n",
       "      <th>GENDER</th>\n",
       "      <th>CITY</th>\n",
       "      <th>COUNTY</th>\n",
       "      <th>STATE</th>\n",
       "    </tr>\n",
       "  </thead>\n",
       "  <tbody>\n",
       "    <tr>\n",
       "      <th>0</th>\n",
       "      <td>P1</td>\n",
       "      <td>2017-08-24</td>\n",
       "      <td>NaN</td>\n",
       "      <td>white</td>\n",
       "      <td>nonhispanic</td>\n",
       "      <td>M</td>\n",
       "      <td>Springfield</td>\n",
       "      <td>Hampden County</td>\n",
       "      <td>Massachusetts</td>\n",
       "    </tr>\n",
       "    <tr>\n",
       "      <th>1</th>\n",
       "      <td>P10</td>\n",
       "      <td>2005-01-16</td>\n",
       "      <td>NaN</td>\n",
       "      <td>white</td>\n",
       "      <td>nonhispanic</td>\n",
       "      <td>M</td>\n",
       "      <td>Springfield</td>\n",
       "      <td>Hampden County</td>\n",
       "      <td>Massachusetts</td>\n",
       "    </tr>\n",
       "    <tr>\n",
       "      <th>2</th>\n",
       "      <td>P100</td>\n",
       "      <td>1946-09-09</td>\n",
       "      <td>M</td>\n",
       "      <td>white</td>\n",
       "      <td>nonhispanic</td>\n",
       "      <td>M</td>\n",
       "      <td>Fall River</td>\n",
       "      <td>Bristol County</td>\n",
       "      <td>Massachusetts</td>\n",
       "    </tr>\n",
       "    <tr>\n",
       "      <th>3</th>\n",
       "      <td>P1000</td>\n",
       "      <td>1997-10-13</td>\n",
       "      <td>NaN</td>\n",
       "      <td>white</td>\n",
       "      <td>nonhispanic</td>\n",
       "      <td>F</td>\n",
       "      <td>Needham</td>\n",
       "      <td>Norfolk County</td>\n",
       "      <td>Massachusetts</td>\n",
       "    </tr>\n",
       "    <tr>\n",
       "      <th>4</th>\n",
       "      <td>P10000</td>\n",
       "      <td>1982-07-05</td>\n",
       "      <td>M</td>\n",
       "      <td>white</td>\n",
       "      <td>nonhispanic</td>\n",
       "      <td>F</td>\n",
       "      <td>Foxborough</td>\n",
       "      <td>Norfolk County</td>\n",
       "      <td>Massachusetts</td>\n",
       "    </tr>\n",
       "  </tbody>\n",
       "</table>\n",
       "</div>"
      ],
      "text/plain": [
       "      _id   BIRTHDATE MARITAL   RACE    ETHNICITY GENDER         CITY  \\\n",
       "0      P1  2017-08-24     NaN  white  nonhispanic      M  Springfield   \n",
       "1     P10  2005-01-16     NaN  white  nonhispanic      M  Springfield   \n",
       "2    P100  1946-09-09       M  white  nonhispanic      M   Fall River   \n",
       "3   P1000  1997-10-13     NaN  white  nonhispanic      F      Needham   \n",
       "4  P10000  1982-07-05       M  white  nonhispanic      F   Foxborough   \n",
       "\n",
       "           COUNTY          STATE  \n",
       "0  Hampden County  Massachusetts  \n",
       "1  Hampden County  Massachusetts  \n",
       "2  Bristol County  Massachusetts  \n",
       "3  Norfolk County  Massachusetts  \n",
       "4  Norfolk County  Massachusetts  "
      ]
     },
     "execution_count": 22,
     "metadata": {},
     "output_type": "execute_result"
    }
   ],
   "source": [
    "#Concatenate three dataframe patient_df1, patients_df2, and patient_df\n",
    "con_df=pd.concat([patient_df,patient_df1,patient_df2])\n",
    "con_df.head()"
   ]
  },
  {
   "cell_type": "markdown",
   "id": "adjusted-catholic",
   "metadata": {},
   "source": [
    "## 1. Compute the current age of the patients and store them in another column called ‘AGE’. "
   ]
  },
  {
   "cell_type": "code",
   "execution_count": 12,
   "id": "2bf48076",
   "metadata": {},
   "outputs": [],
   "source": [
    "import warnings\n",
    "warnings.filterwarnings('ignore')"
   ]
  },
  {
   "cell_type": "code",
   "execution_count": 23,
   "id": "boxed-institute",
   "metadata": {},
   "outputs": [
    {
     "name": "stderr",
     "output_type": "stream",
     "text": [
      "<ipython-input-23-bc0bf20bece3>:5: FutureWarning: The pandas.datetime class is deprecated and will be removed from pandas in a future version. Import from datetime module instead.\n",
      "  con_df[\"age\"]=con_df[\"BIRTHDATE\"].apply(lambda x: (pd.datetime.now().year-x.year))\n"
     ]
    },
    {
     "data": {
      "text/html": [
       "<div>\n",
       "<style scoped>\n",
       "    .dataframe tbody tr th:only-of-type {\n",
       "        vertical-align: middle;\n",
       "    }\n",
       "\n",
       "    .dataframe tbody tr th {\n",
       "        vertical-align: top;\n",
       "    }\n",
       "\n",
       "    .dataframe thead th {\n",
       "        text-align: right;\n",
       "    }\n",
       "</style>\n",
       "<table border=\"1\" class=\"dataframe\">\n",
       "  <thead>\n",
       "    <tr style=\"text-align: right;\">\n",
       "      <th></th>\n",
       "      <th>_id</th>\n",
       "      <th>BIRTHDATE</th>\n",
       "      <th>MARITAL</th>\n",
       "      <th>RACE</th>\n",
       "      <th>ETHNICITY</th>\n",
       "      <th>GENDER</th>\n",
       "      <th>CITY</th>\n",
       "      <th>COUNTY</th>\n",
       "      <th>STATE</th>\n",
       "      <th>age</th>\n",
       "    </tr>\n",
       "  </thead>\n",
       "  <tbody>\n",
       "    <tr>\n",
       "      <th>0</th>\n",
       "      <td>P1</td>\n",
       "      <td>2017-08-24</td>\n",
       "      <td>NaN</td>\n",
       "      <td>white</td>\n",
       "      <td>nonhispanic</td>\n",
       "      <td>M</td>\n",
       "      <td>Springfield</td>\n",
       "      <td>Hampden County</td>\n",
       "      <td>Massachusetts</td>\n",
       "      <td>4</td>\n",
       "    </tr>\n",
       "    <tr>\n",
       "      <th>1</th>\n",
       "      <td>P10</td>\n",
       "      <td>2005-01-16</td>\n",
       "      <td>NaN</td>\n",
       "      <td>white</td>\n",
       "      <td>nonhispanic</td>\n",
       "      <td>M</td>\n",
       "      <td>Springfield</td>\n",
       "      <td>Hampden County</td>\n",
       "      <td>Massachusetts</td>\n",
       "      <td>16</td>\n",
       "    </tr>\n",
       "    <tr>\n",
       "      <th>2</th>\n",
       "      <td>P100</td>\n",
       "      <td>1946-09-09</td>\n",
       "      <td>M</td>\n",
       "      <td>white</td>\n",
       "      <td>nonhispanic</td>\n",
       "      <td>M</td>\n",
       "      <td>Fall River</td>\n",
       "      <td>Bristol County</td>\n",
       "      <td>Massachusetts</td>\n",
       "      <td>75</td>\n",
       "    </tr>\n",
       "    <tr>\n",
       "      <th>3</th>\n",
       "      <td>P1000</td>\n",
       "      <td>1997-10-13</td>\n",
       "      <td>NaN</td>\n",
       "      <td>white</td>\n",
       "      <td>nonhispanic</td>\n",
       "      <td>F</td>\n",
       "      <td>Needham</td>\n",
       "      <td>Norfolk County</td>\n",
       "      <td>Massachusetts</td>\n",
       "      <td>24</td>\n",
       "    </tr>\n",
       "    <tr>\n",
       "      <th>4</th>\n",
       "      <td>P10000</td>\n",
       "      <td>1982-07-05</td>\n",
       "      <td>M</td>\n",
       "      <td>white</td>\n",
       "      <td>nonhispanic</td>\n",
       "      <td>F</td>\n",
       "      <td>Foxborough</td>\n",
       "      <td>Norfolk County</td>\n",
       "      <td>Massachusetts</td>\n",
       "      <td>39</td>\n",
       "    </tr>\n",
       "  </tbody>\n",
       "</table>\n",
       "</div>"
      ],
      "text/plain": [
       "      _id  BIRTHDATE MARITAL   RACE    ETHNICITY GENDER         CITY  \\\n",
       "0      P1 2017-08-24     NaN  white  nonhispanic      M  Springfield   \n",
       "1     P10 2005-01-16     NaN  white  nonhispanic      M  Springfield   \n",
       "2    P100 1946-09-09       M  white  nonhispanic      M   Fall River   \n",
       "3   P1000 1997-10-13     NaN  white  nonhispanic      F      Needham   \n",
       "4  P10000 1982-07-05       M  white  nonhispanic      F   Foxborough   \n",
       "\n",
       "           COUNTY          STATE  age  \n",
       "0  Hampden County  Massachusetts    4  \n",
       "1  Hampden County  Massachusetts   16  \n",
       "2  Bristol County  Massachusetts   75  \n",
       "3  Norfolk County  Massachusetts   24  \n",
       "4  Norfolk County  Massachusetts   39  "
      ]
     },
     "execution_count": 23,
     "metadata": {},
     "output_type": "execute_result"
    }
   ],
   "source": [
    "#Convert BIRTHDATE into datetiem format\n",
    "con_df[\"BIRTHDATE\"]=pd.to_datetime(con_df.BIRTHDATE)\n",
    "\n",
    "#Calculate age using lambda function\n",
    "con_df[\"age\"]=con_df[\"BIRTHDATE\"].apply(lambda x: (pd.datetime.now().year-x.year))\n",
    "con_df.head()"
   ]
  },
  {
   "cell_type": "markdown",
   "id": "juvenile-yacht",
   "metadata": {},
   "source": [
    "###  Insert the above DataFrame to a collection named ‘patients_clean’. Display the number of documents in |the collection to make sure that all the records have been inserted properly"
   ]
  },
  {
   "cell_type": "code",
   "execution_count": 24,
   "id": "productive-modem",
   "metadata": {},
   "outputs": [
    {
     "data": {
      "text/html": [
       "<div>\n",
       "<style scoped>\n",
       "    .dataframe tbody tr th:only-of-type {\n",
       "        vertical-align: middle;\n",
       "    }\n",
       "\n",
       "    .dataframe tbody tr th {\n",
       "        vertical-align: top;\n",
       "    }\n",
       "\n",
       "    .dataframe thead th {\n",
       "        text-align: right;\n",
       "    }\n",
       "</style>\n",
       "<table border=\"1\" class=\"dataframe\">\n",
       "  <thead>\n",
       "    <tr style=\"text-align: right;\">\n",
       "      <th></th>\n",
       "      <th>_id</th>\n",
       "      <th>BIRTHDATE</th>\n",
       "      <th>MARITAL</th>\n",
       "      <th>RACE</th>\n",
       "      <th>ETHNICITY</th>\n",
       "      <th>GENDER</th>\n",
       "      <th>CITY</th>\n",
       "      <th>COUNTY</th>\n",
       "      <th>STATE</th>\n",
       "      <th>age</th>\n",
       "    </tr>\n",
       "  </thead>\n",
       "  <tbody>\n",
       "    <tr>\n",
       "      <th>0</th>\n",
       "      <td>P1</td>\n",
       "      <td>2017-08-24</td>\n",
       "      <td>NaN</td>\n",
       "      <td>white</td>\n",
       "      <td>nonhispanic</td>\n",
       "      <td>M</td>\n",
       "      <td>Springfield</td>\n",
       "      <td>Hampden County</td>\n",
       "      <td>Massachusetts</td>\n",
       "      <td>4</td>\n",
       "    </tr>\n",
       "    <tr>\n",
       "      <th>1</th>\n",
       "      <td>P10</td>\n",
       "      <td>2005-01-16</td>\n",
       "      <td>NaN</td>\n",
       "      <td>white</td>\n",
       "      <td>nonhispanic</td>\n",
       "      <td>M</td>\n",
       "      <td>Springfield</td>\n",
       "      <td>Hampden County</td>\n",
       "      <td>Massachusetts</td>\n",
       "      <td>16</td>\n",
       "    </tr>\n",
       "    <tr>\n",
       "      <th>2</th>\n",
       "      <td>P100</td>\n",
       "      <td>1946-09-09</td>\n",
       "      <td>M</td>\n",
       "      <td>white</td>\n",
       "      <td>nonhispanic</td>\n",
       "      <td>M</td>\n",
       "      <td>Fall River</td>\n",
       "      <td>Bristol County</td>\n",
       "      <td>Massachusetts</td>\n",
       "      <td>75</td>\n",
       "    </tr>\n",
       "    <tr>\n",
       "      <th>3</th>\n",
       "      <td>P1000</td>\n",
       "      <td>1997-10-13</td>\n",
       "      <td>NaN</td>\n",
       "      <td>white</td>\n",
       "      <td>nonhispanic</td>\n",
       "      <td>F</td>\n",
       "      <td>Needham</td>\n",
       "      <td>Norfolk County</td>\n",
       "      <td>Massachusetts</td>\n",
       "      <td>24</td>\n",
       "    </tr>\n",
       "    <tr>\n",
       "      <th>4</th>\n",
       "      <td>P10000</td>\n",
       "      <td>1982-07-05</td>\n",
       "      <td>M</td>\n",
       "      <td>white</td>\n",
       "      <td>nonhispanic</td>\n",
       "      <td>F</td>\n",
       "      <td>Foxborough</td>\n",
       "      <td>Norfolk County</td>\n",
       "      <td>Massachusetts</td>\n",
       "      <td>39</td>\n",
       "    </tr>\n",
       "    <tr>\n",
       "      <th>...</th>\n",
       "      <td>...</td>\n",
       "      <td>...</td>\n",
       "      <td>...</td>\n",
       "      <td>...</td>\n",
       "      <td>...</td>\n",
       "      <td>...</td>\n",
       "      <td>...</td>\n",
       "      <td>...</td>\n",
       "      <td>...</td>\n",
       "      <td>...</td>\n",
       "    </tr>\n",
       "    <tr>\n",
       "      <th>452</th>\n",
       "      <td>P10416</td>\n",
       "      <td>2016-06-22</td>\n",
       "      <td>NaN</td>\n",
       "      <td>black</td>\n",
       "      <td>nonhispanic</td>\n",
       "      <td>M</td>\n",
       "      <td>Lynn</td>\n",
       "      <td>Essex County</td>\n",
       "      <td>Massachusetts</td>\n",
       "      <td>5</td>\n",
       "    </tr>\n",
       "    <tr>\n",
       "      <th>453</th>\n",
       "      <td>P2170</td>\n",
       "      <td>1956-01-21</td>\n",
       "      <td>M</td>\n",
       "      <td>white</td>\n",
       "      <td>hispanic</td>\n",
       "      <td>M</td>\n",
       "      <td>Westport</td>\n",
       "      <td>Bristol County</td>\n",
       "      <td>Massachusetts</td>\n",
       "      <td>65</td>\n",
       "    </tr>\n",
       "    <tr>\n",
       "      <th>454</th>\n",
       "      <td>P1082</td>\n",
       "      <td>1962-01-06</td>\n",
       "      <td>M</td>\n",
       "      <td>white</td>\n",
       "      <td>nonhispanic</td>\n",
       "      <td>M</td>\n",
       "      <td>Kingston</td>\n",
       "      <td>Plymouth County</td>\n",
       "      <td>Massachusetts</td>\n",
       "      <td>59</td>\n",
       "    </tr>\n",
       "    <tr>\n",
       "      <th>455</th>\n",
       "      <td>P6672</td>\n",
       "      <td>1971-12-02</td>\n",
       "      <td>S</td>\n",
       "      <td>white</td>\n",
       "      <td>nonhispanic</td>\n",
       "      <td>F</td>\n",
       "      <td>Webster</td>\n",
       "      <td>Worcester County</td>\n",
       "      <td>Massachusetts</td>\n",
       "      <td>50</td>\n",
       "    </tr>\n",
       "    <tr>\n",
       "      <th>456</th>\n",
       "      <td>P5345</td>\n",
       "      <td>1954-10-11</td>\n",
       "      <td>M</td>\n",
       "      <td>asian</td>\n",
       "      <td>nonhispanic</td>\n",
       "      <td>M</td>\n",
       "      <td>Granby</td>\n",
       "      <td>Hampshire County</td>\n",
       "      <td>Massachusetts</td>\n",
       "      <td>67</td>\n",
       "    </tr>\n",
       "  </tbody>\n",
       "</table>\n",
       "<p>10000 rows × 10 columns</p>\n",
       "</div>"
      ],
      "text/plain": [
       "        _id  BIRTHDATE MARITAL   RACE    ETHNICITY GENDER         CITY  \\\n",
       "0        P1 2017-08-24     NaN  white  nonhispanic      M  Springfield   \n",
       "1       P10 2005-01-16     NaN  white  nonhispanic      M  Springfield   \n",
       "2      P100 1946-09-09       M  white  nonhispanic      M   Fall River   \n",
       "3     P1000 1997-10-13     NaN  white  nonhispanic      F      Needham   \n",
       "4    P10000 1982-07-05       M  white  nonhispanic      F   Foxborough   \n",
       "..      ...        ...     ...    ...          ...    ...          ...   \n",
       "452  P10416 2016-06-22     NaN  black  nonhispanic      M         Lynn   \n",
       "453   P2170 1956-01-21       M  white     hispanic      M     Westport   \n",
       "454   P1082 1962-01-06       M  white  nonhispanic      M     Kingston   \n",
       "455   P6672 1971-12-02       S  white  nonhispanic      F      Webster   \n",
       "456   P5345 1954-10-11       M  asian  nonhispanic      M       Granby   \n",
       "\n",
       "               COUNTY          STATE  age  \n",
       "0      Hampden County  Massachusetts    4  \n",
       "1      Hampden County  Massachusetts   16  \n",
       "2      Bristol County  Massachusetts   75  \n",
       "3      Norfolk County  Massachusetts   24  \n",
       "4      Norfolk County  Massachusetts   39  \n",
       "..                ...            ...  ...  \n",
       "452      Essex County  Massachusetts    5  \n",
       "453    Bristol County  Massachusetts   65  \n",
       "454   Plymouth County  Massachusetts   59  \n",
       "455  Worcester County  Massachusetts   50  \n",
       "456  Hampshire County  Massachusetts   67  \n",
       "\n",
       "[10000 rows x 10 columns]"
      ]
     },
     "execution_count": 24,
     "metadata": {},
     "output_type": "execute_result"
    }
   ],
   "source": [
    "clean_df=con_df\n",
    "clean_df"
   ]
  },
  {
   "cell_type": "code",
   "execution_count": 25,
   "id": "peripheral-salem",
   "metadata": {},
   "outputs": [
    {
     "data": {
      "text/plain": [
       "['conditions', 'patients']"
      ]
     },
     "execution_count": 25,
     "metadata": {},
     "output_type": "execute_result"
    }
   ],
   "source": [
    "#Create collection name \"patient_clean\"\n",
    "collection=db[\"patients_clean\"]\n",
    "db.list_collection_names()"
   ]
  },
  {
   "cell_type": "code",
   "execution_count": 26,
   "id": "seven-steel",
   "metadata": {},
   "outputs": [
    {
     "data": {
      "text/plain": [
       "<pymongo.results.InsertManyResult at 0x20e9a9a14c0>"
      ]
     },
     "execution_count": 26,
     "metadata": {},
     "output_type": "execute_result"
    }
   ],
   "source": [
    "#Insert dataframe to \"patient_clean\" collection\n",
    "clean_df.reset_index(inplace=True)\n",
    "clean_df_dict=clean_df.to_dict('records')\n",
    "collection.insert_many(clean_df_dict)"
   ]
  },
  {
   "cell_type": "code",
   "execution_count": 27,
   "id": "apparent-region",
   "metadata": {},
   "outputs": [
    {
     "name": "stdout",
     "output_type": "stream",
     "text": [
      "Number of patient in 'patients_clean'collection: 10000.\n"
     ]
    }
   ],
   "source": [
    "#Count number of documents inside the \"patients_clean\" collection\n",
    "pt_count=collection.count_documents({})\n",
    "print(f\"Number of patient in 'patients_clean'collection: {pt_count}.\")"
   ]
  },
  {
   "cell_type": "markdown",
   "id": "bulgarian-times",
   "metadata": {},
   "source": [
    "## 2. Obtain the ID’s of patients that were diagnosed with COVID-19. "
   ]
  },
  {
   "cell_type": "code",
   "execution_count": 28,
   "id": "extreme-wisconsin",
   "metadata": {},
   "outputs": [
    {
     "data": {
      "text/plain": [
       "{'_id': 'E1', 'patient': 'P1', 'conditions': ['Otitis media']}"
      ]
     },
     "execution_count": 28,
     "metadata": {},
     "output_type": "execute_result"
    }
   ],
   "source": [
    "#Check record of conditions collection\n",
    "conditions_coll.find_one()"
   ]
  },
  {
   "cell_type": "code",
   "execution_count": 29,
   "id": "collected-average",
   "metadata": {},
   "outputs": [
    {
     "name": "stdout",
     "output_type": "stream",
     "text": [
      "Number of patient diagnosed with COVID-19: 8820.\n"
     ]
    }
   ],
   "source": [
    "#Count number of the patients who were diagnosed of COVID-19\n",
    "pt_covid19=conditions_coll.count_documents({\"conditions\":\"COVID-19\"})\n",
    "print(f\"Number of patient diagnosed with COVID-19: {pt_covid19}.\")"
   ]
  },
  {
   "cell_type": "code",
   "execution_count": 85,
   "id": "comprehensive-leader",
   "metadata": {},
   "outputs": [
    {
     "data": {
      "text/plain": [
       "8820"
      ]
     },
     "execution_count": 85,
     "metadata": {},
     "output_type": "execute_result"
    }
   ],
   "source": [
    "#Obtain ID's of the patients that were diagnosed of COVID-19\n",
    "covid19_id=list(con_c.find ({\"conditions\":\"COVID-19\"},{\"_id\":1,\"patient\":1}))\n",
    "len(covid19_id)"
   ]
  },
  {
   "cell_type": "code",
   "execution_count": 42,
   "id": "understood-tactics",
   "metadata": {},
   "outputs": [],
   "source": [
    "covid_pt=list(con_c.find ({\"conditions\":\"COVID-19\"},{\"_id\":1,\"patient\":1}))"
   ]
  },
  {
   "cell_type": "markdown",
   "id": "anticipated-victim",
   "metadata": {},
   "source": [
    "## 3. Create an aggregation pipeline to obtain COVID-19 patients who also had ‘Cough (finding)’ and ‘Fever|(finding)’. "
   ]
  },
  {
   "cell_type": "code",
   "execution_count": 32,
   "id": "integral-wrestling",
   "metadata": {},
   "outputs": [
    {
     "name": "stdout",
     "output_type": "stream",
     "text": [
      "Number of patient diagnosed with COVID-19 and also have cough and fever: 5334.\n"
     ]
    }
   ],
   "source": [
    "#count of the patients with COVID-19, cough, and fever\n",
    "pt_mul_cond= conditions_coll.count_documents({'$and': [{\"conditions\":\"COVID-19\"},{\"conditions\":'Cough (finding)'},\n",
    "                                      {\"conditions\":'Fever (finding)'}]})\n",
    "print(f\"Number of patient diagnosed with COVID-19 and also have cough and fever: {pt_mul_cond}.\")"
   ]
  },
  {
   "cell_type": "code",
   "execution_count": 84,
   "id": "logical-reference",
   "metadata": {},
   "outputs": [
    {
     "data": {
      "text/plain": [
       "5334"
      ]
     },
     "execution_count": 84,
     "metadata": {},
     "output_type": "execute_result"
    }
   ],
   "source": [
    "# No of the patients with COVID-19, cough, and fever\n",
    "covid19_multiple_symptom=list (conditions_coll.find ({'$and': [{\"conditions\":\"COVID-19\"},{\"conditions\":'Cough (finding)'},\n",
    "                                      {\"conditions\":'Fever (finding)'}]}))\n",
    "len(covid19_multiple_symptom)"
   ]
  },
  {
   "cell_type": "markdown",
   "id": "polish-metro",
   "metadata": {},
   "source": [
    "## 3. Create a new aggregation pipeline to join patient data for 8,820 COVID-19 patients. "
   ]
  },
  {
   "cell_type": "code",
   "execution_count": 76,
   "id": "invalid-attack",
   "metadata": {},
   "outputs": [
    {
     "data": {
      "text/html": [
       "<div>\n",
       "<style scoped>\n",
       "    .dataframe tbody tr th:only-of-type {\n",
       "        vertical-align: middle;\n",
       "    }\n",
       "\n",
       "    .dataframe tbody tr th {\n",
       "        vertical-align: top;\n",
       "    }\n",
       "\n",
       "    .dataframe thead th {\n",
       "        text-align: right;\n",
       "    }\n",
       "</style>\n",
       "<table border=\"1\" class=\"dataframe\">\n",
       "  <thead>\n",
       "    <tr style=\"text-align: right;\">\n",
       "      <th></th>\n",
       "      <th>_id</th>\n",
       "      <th>patient</th>\n",
       "    </tr>\n",
       "  </thead>\n",
       "  <tbody>\n",
       "    <tr>\n",
       "      <th>0</th>\n",
       "      <td>E10</td>\n",
       "      <td>P4</td>\n",
       "    </tr>\n",
       "    <tr>\n",
       "      <th>1</th>\n",
       "      <td>E100</td>\n",
       "      <td>P26</td>\n",
       "    </tr>\n",
       "  </tbody>\n",
       "</table>\n",
       "</div>"
      ],
      "text/plain": [
       "    _id patient\n",
       "0   E10      P4\n",
       "1  E100     P26"
      ]
     },
     "execution_count": 76,
     "metadata": {},
     "output_type": "execute_result"
    }
   ],
   "source": [
    "covid_pt_list=list(con_c.find ({\"conditions\":\"COVID-19\"},{\"_id\":1,\"patient\":1}))\n",
    "covid_pt_df=pd.DataFrame(covid_pt_list)\n",
    "covid_pt_df.head(2)"
   ]
  },
  {
   "cell_type": "code",
   "execution_count": 78,
   "id": "experimental-software",
   "metadata": {},
   "outputs": [
    {
     "data": {
      "text/html": [
       "<div>\n",
       "<style scoped>\n",
       "    .dataframe tbody tr th:only-of-type {\n",
       "        vertical-align: middle;\n",
       "    }\n",
       "\n",
       "    .dataframe tbody tr th {\n",
       "        vertical-align: top;\n",
       "    }\n",
       "\n",
       "    .dataframe thead th {\n",
       "        text-align: right;\n",
       "    }\n",
       "</style>\n",
       "<table border=\"1\" class=\"dataframe\">\n",
       "  <thead>\n",
       "    <tr style=\"text-align: right;\">\n",
       "      <th></th>\n",
       "      <th>No_id</th>\n",
       "      <th>_id</th>\n",
       "    </tr>\n",
       "  </thead>\n",
       "  <tbody>\n",
       "    <tr>\n",
       "      <th>0</th>\n",
       "      <td>E10</td>\n",
       "      <td>P4</td>\n",
       "    </tr>\n",
       "    <tr>\n",
       "      <th>1</th>\n",
       "      <td>E100</td>\n",
       "      <td>P26</td>\n",
       "    </tr>\n",
       "  </tbody>\n",
       "</table>\n",
       "</div>"
      ],
      "text/plain": [
       "  No_id  _id\n",
       "0   E10   P4\n",
       "1  E100  P26"
      ]
     },
     "execution_count": 78,
     "metadata": {},
     "output_type": "execute_result"
    }
   ],
   "source": [
    "#Rename column names\n",
    "covid_pt_df2=covid_pt_df.rename(columns={\"_id\":\"No_id\"})\n",
    "covid_pt_df3=covid_pt_df2.rename(columns={\"patient\":\"_id\"})\n",
    "covid_pt_df3.head(2)"
   ]
  },
  {
   "cell_type": "code",
   "execution_count": 64,
   "id": "convinced-payroll",
   "metadata": {},
   "outputs": [
    {
     "data": {
      "text/plain": [
       "<pymongo.results.InsertManyResult at 0x20ea01c7bc0>"
      ]
     },
     "execution_count": 64,
     "metadata": {},
     "output_type": "execute_result"
    }
   ],
   "source": [
    "##Create new collection named \"covid_coll\" and insert newly formed dataframe\n",
    "collection_covid=db[\"covid_coll\"]\n",
    "covid_pt_df3.reset_index(inplace=True)\n",
    "covid_pt_df3_dict=covid_pt_df3.to_dict('records')\n",
    "collection_covid.insert_many(covid_pt_df3_dict)"
   ]
  },
  {
   "cell_type": "code",
   "execution_count": 82,
   "id": "technical-teens",
   "metadata": {},
   "outputs": [
    {
     "data": {
      "text/plain": [
       "['covid_coll', 'conditions', 'patients', 'patients_clean']"
      ]
     },
     "execution_count": 82,
     "metadata": {},
     "output_type": "execute_result"
    }
   ],
   "source": [
    "db.list_collection_names()"
   ]
  },
  {
   "cell_type": "code",
   "execution_count": 83,
   "id": "dangerous-hungarian",
   "metadata": {},
   "outputs": [],
   "source": [
    "#Use look up function and match function to join two collection\n",
    "rrt=list(db.patients_clean.aggregate([\n",
    "    {\n",
    "        '$lookup':\n",
    "        {\n",
    "            'from':\"covid_coll\"  ,\n",
    "            'localField':'_id'  ,\n",
    "            'foreignField':'_id'  ,\n",
    "            'as': 'hhhhh'  \n",
    "        }},\n",
    "    {\n",
    "        \"$match\":{\"hhhhh\":{\"$ne\":[]}}\n",
    "    }\n",
    "        \n",
    "    \n",
    "]))"
   ]
  },
  {
   "cell_type": "code",
   "execution_count": 81,
   "id": "innovative-information",
   "metadata": {},
   "outputs": [
    {
     "data": {
      "text/plain": [
       "8463"
      ]
     },
     "execution_count": 81,
     "metadata": {},
     "output_type": "execute_result"
    }
   ],
   "source": [
    "#Number of patients in the new aggreagation pipline\n",
    "len(rrt)"
   ]
  },
  {
   "cell_type": "markdown",
   "id": "color-pointer",
   "metadata": {},
   "source": [
    "## 5. Based on the previous pipeline, create a new pipeline to calculate the total number of alive COVID-19 patients for each gender. Display the results. "
   ]
  },
  {
   "cell_type": "code",
   "execution_count": 86,
   "id": "completed-photography",
   "metadata": {},
   "outputs": [
    {
     "data": {
      "text/html": [
       "<div>\n",
       "<style scoped>\n",
       "    .dataframe tbody tr th:only-of-type {\n",
       "        vertical-align: middle;\n",
       "    }\n",
       "\n",
       "    .dataframe tbody tr th {\n",
       "        vertical-align: top;\n",
       "    }\n",
       "\n",
       "    .dataframe thead th {\n",
       "        text-align: right;\n",
       "    }\n",
       "</style>\n",
       "<table border=\"1\" class=\"dataframe\">\n",
       "  <thead>\n",
       "    <tr style=\"text-align: right;\">\n",
       "      <th></th>\n",
       "      <th>_id</th>\n",
       "      <th>index</th>\n",
       "      <th>BIRTHDATE</th>\n",
       "      <th>MARITAL</th>\n",
       "      <th>RACE</th>\n",
       "      <th>ETHNICITY</th>\n",
       "      <th>GENDER</th>\n",
       "      <th>CITY</th>\n",
       "      <th>COUNTY</th>\n",
       "      <th>STATE</th>\n",
       "      <th>age</th>\n",
       "      <th>hhhhh</th>\n",
       "    </tr>\n",
       "  </thead>\n",
       "  <tbody>\n",
       "    <tr>\n",
       "      <th>0</th>\n",
       "      <td>P1</td>\n",
       "      <td>0</td>\n",
       "      <td>2017-08-24</td>\n",
       "      <td>NaN</td>\n",
       "      <td>white</td>\n",
       "      <td>nonhispanic</td>\n",
       "      <td>M</td>\n",
       "      <td>Springfield</td>\n",
       "      <td>Hampden County</td>\n",
       "      <td>Massachusetts</td>\n",
       "      <td>4</td>\n",
       "      <td>[{'_id': 'P1', 'index': 3573, 'No_id': 'E3'}]</td>\n",
       "    </tr>\n",
       "    <tr>\n",
       "      <th>1</th>\n",
       "      <td>P100</td>\n",
       "      <td>2</td>\n",
       "      <td>1946-09-09</td>\n",
       "      <td>M</td>\n",
       "      <td>white</td>\n",
       "      <td>nonhispanic</td>\n",
       "      <td>M</td>\n",
       "      <td>Fall River</td>\n",
       "      <td>Bristol County</td>\n",
       "      <td>Massachusetts</td>\n",
       "      <td>75</td>\n",
       "      <td>[{'_id': 'P100', 'index': 5398, 'No_id': 'E403'}]</td>\n",
       "    </tr>\n",
       "  </tbody>\n",
       "</table>\n",
       "</div>"
      ],
      "text/plain": [
       "    _id  index  BIRTHDATE MARITAL   RACE    ETHNICITY GENDER         CITY  \\\n",
       "0    P1      0 2017-08-24     NaN  white  nonhispanic      M  Springfield   \n",
       "1  P100      2 1946-09-09       M  white  nonhispanic      M   Fall River   \n",
       "\n",
       "           COUNTY          STATE  age  \\\n",
       "0  Hampden County  Massachusetts    4   \n",
       "1  Bristol County  Massachusetts   75   \n",
       "\n",
       "                                               hhhhh  \n",
       "0      [{'_id': 'P1', 'index': 3573, 'No_id': 'E3'}]  \n",
       "1  [{'_id': 'P100', 'index': 5398, 'No_id': 'E403'}]  "
      ]
     },
     "execution_count": 86,
     "metadata": {},
     "output_type": "execute_result"
    }
   ],
   "source": [
    "#Convert previous list to dataframe\n",
    "gender_df=pd.DataFrame(rrt)\n",
    "gender_df.head(2)"
   ]
  },
  {
   "cell_type": "code",
   "execution_count": 87,
   "id": "thermal-amateur",
   "metadata": {},
   "outputs": [
    {
     "data": {
      "text/plain": [
       "<pymongo.results.InsertManyResult at 0x20ea45cbf00>"
      ]
     },
     "execution_count": 87,
     "metadata": {},
     "output_type": "execute_result"
    }
   ],
   "source": [
    "#Create new collection to calculate genders\n",
    "collection_gender_covid=db[\"covid_gender\"]\n",
    "gender_df_dict=gender_df.to_dict('records')\n",
    "collection_gender_covid.insert_many(gender_df_dict)"
   ]
  },
  {
   "cell_type": "code",
   "execution_count": 91,
   "id": "polar-darwin",
   "metadata": {},
   "outputs": [
    {
     "data": {
      "text/plain": [
       "3992"
      ]
     },
     "execution_count": 91,
     "metadata": {},
     "output_type": "execute_result"
    }
   ],
   "source": [
    "results_male = collection_gender_covid.aggregate([\n",
    "    {\n",
    "        '$match':{'GENDER':'M'}\n",
    "    }\n",
    "])\n",
    "\n",
    "len(list(results_male))"
   ]
  },
  {
   "cell_type": "code",
   "execution_count": 92,
   "id": "pediatric-female",
   "metadata": {},
   "outputs": [
    {
     "data": {
      "text/plain": [
       "4471"
      ]
     },
     "execution_count": 92,
     "metadata": {},
     "output_type": "execute_result"
    }
   ],
   "source": [
    "results_female = collection_gender_covid.aggregate([\n",
    "    {\n",
    "        '$match':{'GENDER':'F'}\n",
    "    }\n",
    "])\n",
    "\n",
    "len(list(results_female))"
   ]
  },
  {
   "cell_type": "code",
   "execution_count": null,
   "id": "obvious-gothic",
   "metadata": {},
   "outputs": [],
   "source": []
  }
 ],
 "metadata": {
  "kernelspec": {
   "display_name": "Python 3 (ipykernel)",
   "language": "python",
   "name": "python3"
  },
  "language_info": {
   "codemirror_mode": {
    "name": "ipython",
    "version": 3
   },
   "file_extension": ".py",
   "mimetype": "text/x-python",
   "name": "python",
   "nbconvert_exporter": "python",
   "pygments_lexer": "ipython3",
   "version": "3.7.15"
  }
 },
 "nbformat": 4,
 "nbformat_minor": 5
}
